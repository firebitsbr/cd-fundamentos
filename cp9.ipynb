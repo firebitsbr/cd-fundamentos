{
 "cells": [
  {
   "cell_type": "markdown",
   "id": "45527508",
   "metadata": {},
   "source": [
    "---\n",
    "jupytext:\n",
    "  formats: md:myst\n",
    "  text_representation:\n",
    "    extension: .md\n",
    "    format_name: myst\n",
    "    format_version: 0.13\n",
    "    jupytext_version: 1.11.5\n",
    "kernelspec:\n",
    "  display_name: Python 3\n",
    "  language: python\n",
    "  name: python3\n",
    "---\n",
    "\n",
    "# Avaliação, Ajuste e Seleção de Modelos"
   ]
  },
  {
   "cell_type": "code",
   "execution_count": null,
   "id": "f22b12c4",
   "metadata": {},
   "outputs": [],
   "source": [
    ":class: tip\n",
    "Para execução dos códigos, é necessário instalar as seguintes bibliotecas: \n",
    "\n",
    " - *!pip install -U scikit-learn*"
   ]
  },
  {
   "cell_type": "markdown",
   "id": "bbd4261e",
   "metadata": {},
   "source": [
    "## Avaliação para Regressão"
   ]
  },
  {
   "cell_type": "code",
   "execution_count": null,
   "id": "15f78f27",
   "metadata": {
    "attributes": {
     "classes": [
      "code-cell"
     ],
     "id": ""
    }
   },
   "outputs": [],
   "source": [
    ":tags: [remove-output]\n",
    "# Pipeline de Regressão\n",
    "import pandas as pd\n",
    "from sklearn.datasets import fetch_california_housing\n",
    "\n",
    "# Carregando os dados\n",
    "califa_dataset = fetch_california_housing()\n",
    "\n",
    "# Separando atributos preditivos do atributo alvo\n",
    "data = pd.DataFrame(califa_dataset.data, columns=califa_dataset.feature_names)\n",
    "target = califa_dataset.target\n",
    "\n",
    "from sklearn.model_selection import train_test_split\n",
    "\n",
    "# Aplicando a técnica de hold-out \n",
    "train, test, train_labels, test_labels = train_test_split(data,\n",
    "                                                          target,\n",
    "                                                          test_size=0.2,\n",
    "                                                          random_state=12)\n",
    "                                                          \n",
    "# Importando o regressor baseado em Árvore de Decisão\n",
    "from sklearn.tree import DecisionTreeRegressor\n",
    "\n",
    "dt = DecisionTreeRegressor(random_state=42)\n",
    "\n",
    "# Treinando o modelo e coletando predições\n",
    "dt.fit(train, train_labels)\n",
    "preds_dt = dt.predict(test)\n",
    "\n",
    "# Importando as métricas de avaliação para regressão\n",
    "from sklearn.metrics import mean_squared_error, mean_absolute_error, r2_score\n",
    "\n",
    "# Exibindo os valores de avaliação de performance\n",
    "print(f\"MSE: {mean_squared_error(test_labels, preds_dt)}\")\n",
    "print(f\"RMSE: {mean_squared_error(test_labels, preds_dt, squared=False)}\")\n",
    "print(f\"MAE: {mean_absolute_error(test_labels, preds_dt)}\")\n",
    "print(f\"R2_score: {r2_score(test_labels, preds_dt)}\")"
   ]
  },
  {
   "cell_type": "markdown",
   "id": "3e891857",
   "metadata": {},
   "source": [
    "## Avaliação para Classificação\n",
    "\n",
    "\n",
    "```{code-cell}\n",
    ":tags: [remove-output]\n",
    "# Pipeline de Classificação\n",
    "import pandas as pd\n",
    "\n",
    "# Leitura dos dados\n",
    "df = pd.read_csv('diabetes.csv')\n",
    "\n",
    "# Separando os dados em atributos preditivos (X) e atributo alvo (y)\n",
    "X = df.iloc[:, :-1].values\n",
    "y = df.iloc[:, -1].values\n",
    "\n",
    "from sklearn.model_selection import train_test_split\n",
    "\n",
    "# Aplicando a técnica de hold-out \n",
    "training_set, test_set, train_labels, test_labels = train_test_split(X,  \n",
    "                                                                     y,  \n",
    "                                                                     test_size=0.3,\n",
    "                                                                     random_state=12,\n",
    "                                                                     stratify=y)\n",
    "\n",
    "# Importando o classificador baseado em Árvore de Decisão\n",
    "from sklearn.tree import DecisionTreeClassifier\n",
    "\n",
    "dt = DecisionTreeClassifier(random_state=42)\n",
    "\n",
    "# Treinando o modelo e coletando predições\n",
    "dt.fit(training_set, train_labels)\n",
    "preds_dt = dt.predict(test_set)\n",
    "\n",
    "# Importando as métricas de avaliação para classificação\n",
    "from sklearn.metrics import accuracy_score, f1_score, recall_score, precision_score, roc_auc_score\n",
    "\n",
    "# Exibindo os valores de avaliação de performance\n",
    "print(f\"Acurácia: {accuracy_score(test_labels, preds_dt)}\")\n",
    "print(f\"F1-Score: {f1_score(test_labels, preds_dt)}\")\n",
    "print(f\"Revocação (Recall): {recall_score(test_labels, preds_dt)}\")\n",
    "print(f\"Precisão: {precision_score(test_labels, preds_dt)}\")\n",
    "print(f\"AUC: {roc_auc_score(test_labels, preds_dt)}\")\n",
    "\n",
    "# Utilizando uma função que facilita a conferência de diversas métricas\n",
    "from sklearn.metrics import classification_report\n",
    "\n",
    "print(classification_report(test_labels, preds_dt))\n",
    "```"
   ]
  }
 ],
 "metadata": {},
 "nbformat": 4,
 "nbformat_minor": 5
}
