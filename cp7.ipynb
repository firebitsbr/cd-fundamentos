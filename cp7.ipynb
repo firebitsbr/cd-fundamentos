{
 "cells": [
  {
   "cell_type": "markdown",
   "id": "7db6f2a1",
   "metadata": {},
   "source": [
    "---\n",
    "jupytext:\n",
    "  formats: md:myst\n",
    "  text_representation:\n",
    "    extension: .md\n",
    "    format_name: myst\n",
    "    format_version: 0.13\n",
    "    jupytext_version: 1.11.5\n",
    "kernelspec:\n",
    "  display_name: Python 3\n",
    "  language: python\n",
    "  name: python3\n",
    "---\n",
    "\n",
    "# Amostras de Dados para Experimentos"
   ]
  },
  {
   "cell_type": "code",
   "execution_count": null,
   "id": "04e2f3c9",
   "metadata": {},
   "outputs": [],
   "source": [
    ":class: tip\n",
    "Para execução dos códigos, é necessário instalar as seguintes bibliotecas: \n",
    "\n",
    " - *!pip install -U scikit-learn*\n",
    " - *!pip install -U imbalanced-learn*"
   ]
  },
  {
   "cell_type": "markdown",
   "id": "1b99539f",
   "metadata": {},
   "source": [
    "## Procedimentos para Re-Amostragem de Dados - Hold-Out"
   ]
  },
  {
   "cell_type": "code",
   "execution_count": null,
   "id": "4f0f21b1",
   "metadata": {
    "attributes": {
     "classes": [
      "code-cell"
     ],
     "id": ""
    }
   },
   "outputs": [],
   "source": [
    ":tags: [remove-output]\n",
    "import pandas as pd\n",
    "\n",
    "df = pd.read_csv('diabetes.csv')"
   ]
  },
  {
   "cell_type": "code",
   "execution_count": null,
   "id": "41bc9407",
   "metadata": {
    "attributes": {
     "classes": [
      "code-cell"
     ],
     "id": ""
    }
   },
   "outputs": [],
   "source": [
    "# Importando o método hold-out \n",
    "from sklearn.model_selection import train_test_split\n",
    "\n",
    "# Separando os dados em atributos preditivos (X) e atributo alvo (y)\n",
    "X = df.iloc[:, :-1].values\n",
    "y = df.iloc[:, -1].values\n",
    "\n",
    "# Aplicando a técnica para hold-out \n",
    "training_set, test_set, train_labels, test_labels = train_test_split(X,  \n",
    "                                                                     y,  \n",
    "                                                                     test_size=0.3,\n",
    "                                                                     random_state=12,\n",
    "                                                                     stratify=y)\n",
    "\n",
    "# test_size -> Indica o tamanho do teste\n",
    "# random_state -> Fixa a geração de números aleatórios\n",
    "# stratify -> Mantém a proporção das classes"
   ]
  },
  {
   "cell_type": "markdown",
   "id": "3715494f",
   "metadata": {},
   "source": [
    "## Procedimentos para Re-Amostragem de Dados - Validação Cruzada"
   ]
  },
  {
   "cell_type": "code",
   "execution_count": null,
   "id": "162f8860",
   "metadata": {
    "attributes": {
     "classes": [
      "code-cell"
     ],
     "id": ""
    }
   },
   "outputs": [],
   "source": [
    "# Importando o método StratifiedKFold\n",
    "from sklearn.model_selection import StratifiedKFold\n",
    "\n",
    "# Separando os dados em atributos preditivos (X) e atributo alvo (y)\n",
    "X = df.iloc[:, :-1].values\n",
    "y = df.iloc[:, -1].values\n",
    "\n",
    "# Escolhendo o número de splits e semente do random_state\n",
    "folds = StratifiedKFold(n_splits=10, shuffle=True, random_state=20)\n",
    "\n",
    "# Utilizando um loop para selecionar os conjuntos de treino e teste\n",
    "for train_index, test_index in folds.split(X, y):\n",
    "    X_train, X_val = X[train_index], X[test_index]\n",
    "    y_train, y_val = y[train_index], y[test_index]\n",
    "    \n",
    "    # Observando o tamanho de cada conjunto amostrado\n",
    "    print(X_train.shape)\n",
    "    print(y_train.shape)\n",
    "    print(X_val.shape)\n",
    "    print(y_val.shape)"
   ]
  },
  {
   "cell_type": "markdown",
   "id": "c65374f8",
   "metadata": {},
   "source": [
    "## Procedimentos para Re-Amostragem de Dados - Deixe-Um-De-Fora"
   ]
  },
  {
   "cell_type": "code",
   "execution_count": null,
   "id": "892cce41",
   "metadata": {
    "attributes": {
     "classes": [
      "code-cell"
     ],
     "id": ""
    }
   },
   "outputs": [],
   "source": [
    "# Importando o método deixe-um-de-fora\n",
    "from sklearn.model_selection import LeaveOneOut\n",
    "\n",
    "# Separando os dados em atributos preditivos (X) e atributo alvo (y)\n",
    "X = df.iloc[:, :-1].values # Atributos preditivos\n",
    "y = df.iloc[:, -1].values # Atributo alvo\n",
    "\n",
    "# Inicializando o método do deixe-um-de-fora\n",
    "loo = LeaveOneOut()\n",
    "\n",
    "# Utilizando um loop para selecionar os conjuntos de treino e teste\n",
    "for train_index, test_index in loo.split(X, y):\n",
    "    X_train, X_val = X[train_index], X[test_index]\n",
    "    y_train, y_val = y[train_index], y[test_index]\n",
    "    \n",
    "    # Observando o tamanho de cada conjunto amostrado\n",
    "    print(X_train.shape)\n",
    "    print(y_train.shape)\n",
    "    print(X_val.shape)\n",
    "    print(y_val.shape)"
   ]
  },
  {
   "cell_type": "markdown",
   "id": "7ca2a3fa",
   "metadata": {},
   "source": [
    "## Procedimentos para Re-Amostragem de Dados - Bootstraping"
   ]
  },
  {
   "cell_type": "code",
   "execution_count": null,
   "id": "fd05c53d",
   "metadata": {
    "attributes": {
     "classes": [
      "code-cell"
     ],
     "id": ""
    }
   },
   "outputs": [],
   "source": [
    "# Importando o método ShuffleSplit\n",
    "from sklearn.model_selection import ShuffleSplit\n",
    "\n",
    "# Separando os dados em atributos preditivos (X) e atributo alvo (y)\n",
    "X = df.iloc[:, :-1].values # Atributos preditivos\n",
    "y = df.iloc[:, -1].values # Atributo alvo\n",
    "\n",
    "# Inicializando o método para bootstrap com a definição da quantidade de vezes que a amostragem será feita, o tamanho do teste e a semente do random_state\n",
    "ss = ShuffleSplit(n_splits=1000, test_size=0.25, random_state=3)\n",
    "\n",
    "# Utilizando um loop para selecionar os conjuntos de treino e teste\n",
    "for train_index, test_index in ss.split(X, y):\n",
    "    X_train, X_val = X[train_index], X[test_index]\n",
    "    y_train, y_val = y[train_index], y[test_index]\n",
    "    \n",
    "    # Observando o tamanho de cada conjunto amostrado\n",
    "    print(X_train.shape)\n",
    "    print(y_train.shape)\n",
    "    print(X_val.shape)\n",
    "    print(y_val.shape)"
   ]
  },
  {
   "cell_type": "code",
   "execution_count": null,
   "id": "50438e4f",
   "metadata": {
    "attributes": {
     "classes": [
      "code-cell"
     ],
     "id": ""
    }
   },
   "outputs": [],
   "source": [
    "# Importando o método resample\n",
    "from sklearn.utils import resample\n",
    "\n",
    "# Separando os dados em atributos preditivos (X) e atributo alvo (y)\n",
    "X = df.iloc[:, :-1].values\n",
    "y = df.iloc[:, -1].values\n",
    "\n",
    "# Aplicando o método de bootstrapping manualmente\n",
    "n_splits = 20\n",
    "for i in range(n_splits):\n",
    "    split = resample(X, n_samples=50, replace=True, stratify=y, random_state=0)\n",
    "    \n",
    "    # Observando o conjunto amostrado \n",
    "    print(split)\n",
    "    print('\\n')"
   ]
  },
  {
   "cell_type": "markdown",
   "id": "762802cf",
   "metadata": {},
   "source": [
    "## Dados Desbalanceados - Undersampling"
   ]
  },
  {
   "cell_type": "code",
   "execution_count": null,
   "id": "2cd79df6",
   "metadata": {
    "attributes": {
     "classes": [
      "code-cell"
     ],
     "id": ""
    }
   },
   "outputs": [],
   "source": [
    "# Importando o método Counter para contagem dos exemplos das classes\n",
    "from collections import Counter\n",
    "\n",
    "# Separando os dados em atributos preditivos (X) e atributo alvo (y)\n",
    "X = df.iloc[:, :-1].values\n",
    "y = df.iloc[:, -1].values\n",
    "\n",
    "# Verificando se o conjunto de dados é desbalanceado\n",
    "print('Dataset shape %s' % Counter(y))"
   ]
  },
  {
   "cell_type": "code",
   "execution_count": null,
   "id": "07092d1f",
   "metadata": {
    "attributes": {
     "classes": [
      "code-cell"
     ],
     "id": ""
    }
   },
   "outputs": [],
   "source": [
    "# Importando o método RUS\n",
    "from imblearn.under_sampling import RandomUnderSampler\n",
    "\n",
    "# Separando os dados em atributos preditivos (X) e atributo alvo (y)\n",
    "X = df.iloc[:, :-1].values\n",
    "y = df.iloc[:, -1].values\n",
    "\n",
    "# Dividindo dados em treinamento e teste com hold-out\n",
    "train_set, test_set, train_labels, test_labels = train_test_split(X,  \n",
    "                                                                  y,  \n",
    "                                                                  test_size=0.3,\n",
    "                                                                  random_state=12,\n",
    "                                                                  stratify=y)\n",
    "\n",
    "# Aplicando RUS\n",
    "rus = RandomUnderSampler(random_state=42)\n",
    "train_res, train_labels_res = rus.fit_resample(train_set, train_labels)\n",
    "\n",
    "print('Dataset shape %s' % Counter(train_labels))\n",
    "print('Resampled dataset shape %s' % Counter(train_labels_res))"
   ]
  },
  {
   "cell_type": "markdown",
   "id": "dea1061d",
   "metadata": {},
   "source": [
    "## Dados Desbalanceados - Oversampling"
   ]
  },
  {
   "cell_type": "code",
   "execution_count": null,
   "id": "83f5807a",
   "metadata": {
    "attributes": {
     "classes": [
      "code-cell"
     ],
     "id": ""
    }
   },
   "outputs": [],
   "source": [
    "# Importando o método ROS\n",
    "from imblearn.over_sampling import RandomOverSampler\n",
    "\n",
    "# Separando os dados em atributos preditivos (X) e atributo alvo (y)\n",
    "X = df.iloc[:, :-1].values\n",
    "y = df.iloc[:, -1].values\n",
    "\n",
    "# Dividindo dados em treinamento e teste com hold-out\n",
    "train_set, test_set, train_labels, test_labels = train_test_split(X,  \n",
    "                                                                  y,  \n",
    "                                                                  test_size=0.3,\n",
    "                                                                  random_state=12,\n",
    "                                                                  stratify=y)\n",
    "\n",
    "# Aplicando ROS\n",
    "rs = RandomOverSampler()\n",
    "train_res, train_labels_res = rs.fit_resample(train_set, train_labels)\n",
    "\n",
    "print('Dataset shape %s' % Counter(train_labels))\n",
    "print('Resampled dataset shape %s' % Counter(train_labels_res))"
   ]
  },
  {
   "cell_type": "code",
   "execution_count": null,
   "id": "e94ec6e4",
   "metadata": {
    "attributes": {
     "classes": [
      "code-cell"
     ],
     "id": ""
    }
   },
   "outputs": [],
   "source": [
    "# Importando o método SMOTE\n",
    "from imblearn.over_sampling import SMOTE\n",
    "\n",
    "# Separando os dados em atributos preditivos (X) e atributo alvo (y)\n",
    "X = df.iloc[:, :-1].values\n",
    "y = df.iloc[:, -1].values\n",
    "\n",
    "# Dividindo dados em treinamento e teste com hold-out\n",
    "train_set, test_set, train_labels, test_labels = train_test_split(X,  \n",
    "                                                                  y,  \n",
    "                                                                  test_size=0.3,\n",
    "                                                                  random_state=12,\n",
    "                                                                  stratify=y)\n",
    "\n",
    "# Aplicando Synthetic Minority Oversampling TEchnique (SMOTE)\n",
    "s = SMOTE()\n",
    "train_res, train_labels_res = s.fit_resample(train_set, train_labels)\n",
    "\n",
    "print('Dataset shape %s' % Counter(train_labels))\n",
    "print('Resampled dataset shape %s' % Counter(train_labels_res))"
   ]
  }
 ],
 "metadata": {},
 "nbformat": 4,
 "nbformat_minor": 5
}
