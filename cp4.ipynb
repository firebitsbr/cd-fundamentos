{
 "cells": [
  {
   "cell_type": "markdown",
   "id": "756f173c",
   "metadata": {},
   "source": [
    "---\n",
    "jupytext:\n",
    "  formats: md:myst\n",
    "  text_representation:\n",
    "    extension: .md\n",
    "    format_name: myst\n",
    "    format_version: 0.13\n",
    "    jupytext_version: 1.11.5\n",
    "kernelspec:\n",
    "  display_name: Python 3\n",
    "  language: python\n",
    "  name: python3\n",
    "---\n",
    "\n",
    "# Qualidade de Dados\n",
    "\n",
    "\n",
    "## Valores Ausentes"
   ]
  },
  {
   "cell_type": "code",
   "execution_count": null,
   "id": "63eac216",
   "metadata": {
    "attributes": {
     "classes": [
      "code-cell"
     ],
     "id": ""
    }
   },
   "outputs": [],
   "source": [
    ":tags: [remove-output]\n",
    "import pandas\n",
    "\n",
    "df = pd.read_csv('nome_do_arquivo.csv')"
   ]
  },
  {
   "cell_type": "code",
   "execution_count": null,
   "id": "78615682",
   "metadata": {
    "attributes": {
     "classes": [
      "code-cell"
     ],
     "id": ""
    }
   },
   "outputs": [],
   "source": [
    "# Identificando dados ausentes\n",
    "df.isnull().sum()\n",
    "\n",
    "# Remoção de objetos com valor ausente em qualquer atributo preditivo;\n",
    "df_obj = df.dropna(how='any')\n",
    "\n",
    "# Remoção de objetos com valor ausente em todos os atributos preditivos\n",
    "df_obj = df.dropna(how='all')\n",
    "\n",
    "# Remoção de objetos com valor ausente em qualquer/todos os atributos preditivos selecionados\n",
    "df_obj = df.dropna(how='any', subset=['Coluna1', 'Coluna2'])\n",
    "df_obj = df.dropna(how='all', subset=['Coluna1', 'Coluna2'])"
   ]
  },
  {
   "cell_type": "code",
   "execution_count": null,
   "id": "c3d46e84",
   "metadata": {
    "attributes": {
     "classes": [
      "code-cell"
     ],
     "id": ""
    }
   },
   "outputs": [],
   "source": [
    "# Remoção de atributo preditivo com valor ausente em qualquer objeto\n",
    "df_pred = df.dropna(axis='columns')\n",
    "\n",
    "# Remoção de atributo preditivo com valor ausente em todos os objetos\n",
    "df_pred = df.dropna(axis='columns', how='all')\n",
    "\n",
    "# Remoção de atributo preditivo com valor ausente em um número determinado de objetos\n",
    "df_pred = df.dropna(axis='columns', thresh=3)"
   ]
  },
  {
   "cell_type": "markdown",
   "id": "674d5870",
   "metadata": {},
   "source": [
    "## Preenchimento de Valores"
   ]
  },
  {
   "cell_type": "code",
   "execution_count": null,
   "id": "f79ca14b",
   "metadata": {
    "attributes": {
     "classes": [
      "code-cell"
     ],
     "id": ""
    }
   },
   "outputs": [],
   "source": [
    "# Preencher com um valor constante\n",
    "df_tratamento = df.fillna(value=0)\n",
    "\n",
    "# Preencher com a média\n",
    "df[\"Coluna\"].fillna(df[\"Coluna\"].mean())\n",
    "\n",
    "# Preencher com a mediana\n",
    "df[\"Coluna\"].fillna(df[\"Coluna\"].median())\n",
    "\n",
    "# Preencher com a moda\n",
    "df[\"Coluna\"].fillna(df[\"Coluna\"].mode())\n",
    "\n",
    "# Preencher com o valor do próximo exemplo\n",
    "df_tratamento = df.fillna(method=\"bfill\")"
   ]
  },
  {
   "cell_type": "markdown",
   "id": "50e79733",
   "metadata": {},
   "source": [
    "## Valores Redundantes"
   ]
  },
  {
   "cell_type": "code",
   "execution_count": null,
   "id": "0a3e32cf",
   "metadata": {
    "attributes": {
     "classes": [
      "code-cell"
     ],
     "id": ""
    }
   },
   "outputs": [],
   "source": [
    "# Encontrando dados duplicados\n",
    "df.duplicated()\n",
    "\n",
    "# Especificar a coluna que deseja encontrar dados duplicados\n",
    "df.duplicated([\"Coluna1\", \"Coluna2\"])\n",
    "\n",
    "# Apresentando dados duplicadas\n",
    "df[df.duplicated(keep=False)]\n",
    "\n",
    "# Contando dados duplicados\n",
    "df.duplicated().sum()\n",
    "\n",
    "# Removendo dados duplicadas\n",
    "df.drop_duplicates()\n",
    "\n",
    "# Removendo dados duplicados de uma coluna específica\n",
    "df.drop_duplicates([\"Coluna\"])"
   ]
  },
  {
   "cell_type": "markdown",
   "id": "fd352617",
   "metadata": {},
   "source": [
    "## Valores Outliers\n",
    "\n",
    "\n",
    "```{code-cell}\n",
    "from scipy import stats\n",
    "\n",
    "z_df = df.apply(stats.zscore)\n",
    "df_filtered = df[(z_df < 3).all(axis=1)]\n",
    "```"
   ]
  }
 ],
 "metadata": {},
 "nbformat": 4,
 "nbformat_minor": 5
}
