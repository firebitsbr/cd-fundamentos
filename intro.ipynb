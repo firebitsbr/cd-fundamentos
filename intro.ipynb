{
 "cells": [
  {
   "cell_type": "markdown",
   "id": "5142219f",
   "metadata": {},
   "source": [
    "# Livro: Ciência de Dados – Fundamentos e Aplicações\n",
    "\n",
    "Como toda área de conhecimento, a Ciência de Dados está apoiada por um amplo e profundo conjunto de conhecimentos acumulados ao longo dos anos, validados e comprovados por rigorosos métodos científicos. Assim, embora a primeira vista pareça fácil e simples, o uso correto, eficiente\n",
    "e efetivo da Ciência de Dados pressupõe uma grande dedicação a estudos e práticas, em temas direta e indiretamente associados à análise de dados com algoritmos, técnicas e dispositivos computacionais. \n",
    "\n",
    "A falta da formação adequada nos conceitos básicos e avançados necessários, da mesma forma que nas demais áreas, pode levar não apenas a soluções incorretas, ineficientes e inexplicáveis, mas também a falta de confiabilidade, que pode trazer danos graves, pessoais, sociais, ambientais e materiais.\n",
    "Este livro tem por objetivo apresentar de uma forma introdutória e breve, conceitos que devem ser estudados em mais profundidade. Essa página é dedicada para a disponibilização dos códigos apresentados nos capítulos do livro, conforme apresentado a seguir:\n",
    "\n",
    "1. [Conceitos Gerais da Linguagem Python](cp1.md)\n",
    "2. [Python para Ciência de Dados](cp2.md)\n",
    "3. [Visualização para Exploração de Dados](cp3.md)\n",
    "4. [Qualidade de Dados](cp4.md)\n",
    "5. [Transformação de Dados](cp5.md)\n",
    "6. [Engenharia de Características](cp6.md)\n",
    "7. [Amostras de Dados para Experimentos](cp7.md)\n",
    "8. [Modelagem de Dados](cp8.md)\n",
    "9. [Avaliação, Ajuste e Seleção de Modelos](cp9.md)\n",
    "10. [Dados Não Estruturados](cp10.md)"
   ]
  },
  {
   "cell_type": "code",
   "execution_count": null,
   "id": "1783000c",
   "metadata": {},
   "outputs": [],
   "source": [
    ":class: important\n",
    "Essa página apenas disponibiliza os códigos aplicados no livro, para adquiri-lo acesse: [Ciência de Dados - Fundamentos e Aplicações](https://www.grupogen.com.br/e-book-ciencia-de-dados-fundamentos-e-aplicacoes-andre-carlos-ponce-de-leon-ferreira-de-carvalho-editora-ltc-9788521638766)"
   ]
  }
 ],
 "metadata": {},
 "nbformat": 4,
 "nbformat_minor": 5
}
