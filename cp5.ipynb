{
 "cells": [
  {
   "cell_type": "markdown",
   "id": "0a704ac5",
   "metadata": {},
   "source": [
    "---\n",
    "jupytext:\n",
    "  formats: md:myst\n",
    "  text_representation:\n",
    "    extension: .md\n",
    "    format_name: myst\n",
    "    format_version: 0.13\n",
    "    jupytext_version: 1.11.5\n",
    "kernelspec:\n",
    "  display_name: Python 3\n",
    "  language: python\n",
    "  name: python3\n",
    "---\n",
    "\n",
    "# Transformação de Dados"
   ]
  },
  {
   "cell_type": "code",
   "execution_count": null,
   "id": "c6318567",
   "metadata": {},
   "outputs": [],
   "source": [
    ":class: tip\n",
    "Para execução dos códigos, é necessário instalar as seguintes bibliotecas: \n",
    "\n",
    " - *!pip install AnonymizeDF*"
   ]
  },
  {
   "cell_type": "markdown",
   "id": "7732b644",
   "metadata": {},
   "source": [
    "## Anonimização de Dados"
   ]
  },
  {
   "cell_type": "code",
   "execution_count": null,
   "id": "f3ad1bfe",
   "metadata": {
    "attributes": {
     "classes": [
      "code-cell"
     ],
     "id": ""
    }
   },
   "outputs": [],
   "source": [
    ":tags: [remove-output]\n",
    "# Importando as bibliotecas\n",
    "import pandas as pd\n",
    "from anonymizedf.anonymizedf import anonymize\n",
    "\n",
    "# Criando um DataFrame com as 3 primeiras amostras do exemplo anterior\n",
    "dados = {'Nome': ['Ana', 'Bárbara', 'Cláudia'],\n",
    "        'Altura': [175, 162, 161],\n",
    "        'Idade': [25, 37, 45],\n",
    "        'Pressão': [132, 90, 140],\n",
    "        'Temperatura': [38, 37, 39],\n",
    "        'Sexo': ['Feminino', 'Feminino', 'Feminino'],\n",
    "        'Escolaridade': ['Superior', 'Nenhuma', 'Superior'],\n",
    "        'Diagnóstico': ['Doente', 'Saudável', 'Saudável']}\n",
    "\n",
    "df = pd.DataFrame(dados)\n",
    "        \n",
    "# Anonimizando os dados\n",
    "an = anonymize(df)\n",
    "an.fake_names('Nome')\n",
    "an.fake_whole_numbers('Altura')\n",
    "an.fake_whole_numbers('Idade')\n",
    "an.fake_whole_numbers('Pressão')\n",
    "an.fake_whole_numbers('Temperatura')\n",
    "an.fake_categories('Sexo')\n",
    "an.fake_categories('Escolaridade')\n",
    "an.fake_categories('Diagnóstico')\n",
    "\n",
    "# an.fake_dates('Coluna') \n",
    "# an.fake_decimal_numbers('Coluna')\n",
    "\n",
    "# Dados anonimizados\n",
    "df.iloc[:, 8:16]"
   ]
  },
  {
   "cell_type": "markdown",
   "id": "8be2861a",
   "metadata": {},
   "source": [
    "## Conversão de Valores entre Diferentes Tipos"
   ]
  },
  {
   "cell_type": "code",
   "execution_count": null,
   "id": "33320404",
   "metadata": {
    "attributes": {
     "classes": [
      "code-cell"
     ],
     "id": ""
    }
   },
   "outputs": [],
   "source": [
    "cidades = pd.DataFrame(\n",
    "    [\n",
    "        ['Paraná', 'Londrina', 575377, 1356.00, 'Quinto', 'Não'],\n",
    "        ['São Paulo', 'São Carlos', 254484, 1508.00, 'Quarto', 'Não'],\n",
    "        ['Santa Catarina', 'Florianópolis', 508826, 1798.00, 'Segundo', 'Sim'],\n",
    "        ['Paraná', 'Curitiba', 1963726, 2293.00, 'Primeiro', 'Sim'],\n",
    "        ['São Paulo', 'Campinas', 1223237, 1710.00, 'Terceiro', 'Não']\n",
    "    ], columns=['Estado', 'Cidade', 'Habitantes', 'Salário-Médio', 'Classificação', 'Capital'])"
   ]
  },
  {
   "cell_type": "code",
   "execution_count": null,
   "id": "53c3d9f3",
   "metadata": {
    "attributes": {
     "classes": [
      "code-cell"
     ],
     "id": ""
    }
   },
   "outputs": [],
   "source": [
    "# Importando a função de transformação ordinal do scikit-learn\n",
    "from sklearn.preprocessing import OrdinalEncoder\n",
    "\n",
    "ordem = ['Primeiro', 'Segundo', 'Terceiro', 'Quarto', 'Quinto']\n",
    "codificador = OrdinalEncoder(categories=[ordem])\n",
    "cidades['Classificação'] = codificador.fit_transform(cidades[['Classificação']])"
   ]
  },
  {
   "cell_type": "code",
   "execution_count": null,
   "id": "fba9b091",
   "metadata": {
    "attributes": {
     "classes": [
      "code-cell"
     ],
     "id": ""
    }
   },
   "outputs": [],
   "source": [
    "# Importando a função de transformação binária do scikit-learn\n",
    "from sklearn.preprocessing import OneHotEncoder\n",
    "\n",
    "encoder = OneHotEncoder()\n",
    "\n",
    "estados = encoder.fit_transform(cidades[['Estado']]).toarray()\n",
    "estados = pd.DataFrame(estados, columns=encoder.categories_[0])\n",
    "cidades = pd.concat([cidades, estados], axis=1)\n",
    "\n",
    "# Removendo a coluna original com os dados nominais\n",
    "cidades.drop('Estado', axis=1, inplace=True)"
   ]
  },
  {
   "cell_type": "code",
   "execution_count": null,
   "id": "1f5d434b",
   "metadata": {
    "attributes": {
     "classes": [
      "code-cell"
     ],
     "id": ""
    }
   },
   "outputs": [],
   "source": [
    "estados = pd.get_dummies(cidades['Estado'])\n",
    "cidades = pd.concat([cidades, estados], axis=1)\n",
    "\n",
    "# Removendo a coluna original com os dados nominais\n",
    "cidades.drop('Estado', axis=1, inplace=True)"
   ]
  },
  {
   "cell_type": "code",
   "execution_count": null,
   "id": "9d919608",
   "metadata": {
    "attributes": {
     "classes": [
      "code-cell"
     ],
     "id": ""
    }
   },
   "outputs": [],
   "source": [
    "# Importando a função de transformação de scikit-learn\n",
    "from sklearn.preprocessing import LabelEncoder\n",
    "\n",
    "encoder = LabelEncoder()\n",
    "cidades['Capital'] = encoder.fit_transform(cidades[['Capital']])"
   ]
  },
  {
   "cell_type": "code",
   "execution_count": null,
   "id": "4d46c0a5",
   "metadata": {
    "attributes": {
     "classes": [
      "code-cell"
     ],
     "id": ""
    }
   },
   "outputs": [],
   "source": [
    "# Criando o DataFrame de idade\n",
    "df = pd.DataFrame({'Idade': [42, 15, 67, 55, \n",
    "                             1, 29, 75, 89, 4,\n",
    "                             10, 15, 38, 22, 77]})\n",
    "                        \n",
    "df['Label'] = pd.cut(x=df['Idade'], bins=[0, 3, 17, 70, 99],\n",
    "                     labels=['Bebê', 'Criança', \n",
    "                             'Adulto', 'Idoso'])\n",
    "df"
   ]
  },
  {
   "cell_type": "markdown",
   "id": "ef4e8620",
   "metadata": {},
   "source": [
    "## Transformação de Valores Numéricos"
   ]
  },
  {
   "cell_type": "code",
   "execution_count": null,
   "id": "418623bc",
   "metadata": {
    "attributes": {
     "classes": [
      "code-cell"
     ],
     "id": ""
    }
   },
   "outputs": [],
   "source": [
    "# Importando a biblioteca numpy\n",
    "import numpy as np\n",
    "\n",
    "#Criando um atributo randômico usando distribuição beta para teste \n",
    "dados = np.random.beta(a=4, b=15, size=300)\n",
    "\n",
    "#Transformação logarítmica\n",
    "dados_log = np.log(dados)\n",
    "dados_log \n",
    "\n",
    "#Transformação de raiz quadrada\n",
    "dados_sqrt = np.sqrt(dados)\n",
    "dados_sqrt\n",
    "\n",
    "#Transformação Módulo (valor absoluto)\n",
    "dados_absoluto = np.absolute(dados_log )\n",
    "dados_absoluto"
   ]
  },
  {
   "cell_type": "code",
   "execution_count": null,
   "id": "ce07f5ab",
   "metadata": {
    "attributes": {
     "classes": [
      "code-cell"
     ],
     "id": ""
    }
   },
   "outputs": [],
   "source": [
    "# Importando a função MinMaxScaler\n",
    "from sklearn.preprocessing import MinMaxScaler\n",
    "\n",
    "df = pd.DataFrame({'Valores': [1, 18, 0.5, 20, 10, 0.1, 15]})\n",
    "                        \n",
    "scaler = MinMaxScaler(feature_range=[0, 1])\n",
    "df_minmax = scaler.fit_transform(df)"
   ]
  },
  {
   "cell_type": "markdown",
   "id": "561e6b02",
   "metadata": {},
   "source": [
    "```{code-cell}\n",
    "# Importando a função  StanderScaler\n",
    "from sklearn.preprocessing import StandardScaler\n",
    "\n",
    "df = pd.DataFrame({'Valores': [1, 18, 0.5, 20, 10, 0.1, 15]})\n",
    "                        \n",
    "scaler = StandardScaler()\n",
    "df_normal = scaler.fit_transform(df)\n",
    "df_normal\n",
    "```"
   ]
  }
 ],
 "metadata": {},
 "nbformat": 4,
 "nbformat_minor": 5
}
