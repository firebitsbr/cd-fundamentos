{
 "cells": [
  {
   "cell_type": "markdown",
   "id": "af3aa328",
   "metadata": {},
   "source": [
    "---\n",
    "jupytext:\n",
    "  formats: md:myst\n",
    "  text_representation:\n",
    "    extension: .md\n",
    "    format_name: myst\n",
    "    format_version: 0.13\n",
    "    jupytext_version: 1.11.5\n",
    "kernelspec:\n",
    "  display_name: Python 3\n",
    "  language: python\n",
    "  name: python3\n",
    "---\n",
    "\n",
    "# Python para Ciência de Dados\n",
    "\n",
    "\n",
    "## Manipulação de Dados Tabulares com Pandas - Funções Básicas"
   ]
  },
  {
   "cell_type": "code",
   "execution_count": null,
   "id": "06162b83",
   "metadata": {
    "attributes": {
     "classes": [
      "code-cell"
     ],
     "id": ""
    }
   },
   "outputs": [],
   "source": [
    ":tags: [remove-output]\n",
    "import pandas as pd"
   ]
  },
  {
   "cell_type": "code",
   "execution_count": null,
   "id": "28176c8f",
   "metadata": {
    "attributes": {
     "classes": [
      "code-cell"
     ],
     "id": ""
    }
   },
   "outputs": [],
   "source": [
    "cidades = pd.DataFrame(\n",
    "    [\n",
    "        ['Paraná', 'Londrina', 575377, 1356.00],\n",
    "        ['São Paulo', 'São Carlos', 254484, 1508.00],\n",
    "        ['Santa Catarina', 'Florianópolis', 508826, 1798.00],\n",
    "        ['Paraná', 'Curitiba', 1963726, 2293.00],\n",
    "        ['São Paulo', 'Campinas', 1223237, 1710.00]\n",
    "    ], columns=['Estado', 'Cidade', 'Habitantes', 'Salário-Médio'])\n",
    "\n",
    "cidades"
   ]
  },
  {
   "cell_type": "code",
   "execution_count": null,
   "id": "6b7beff2",
   "metadata": {
    "attributes": {
     "classes": [
      "code-cell"
     ],
     "id": ""
    }
   },
   "outputs": [],
   "source": [
    ":tags: [remove-output]\n",
    "df = pd.read_csv('qualidade_vinho.csv', sep=',', header=0)\n",
    "df.head(2)"
   ]
  },
  {
   "cell_type": "code",
   "execution_count": null,
   "id": "87e8b450",
   "metadata": {
    "attributes": {
     "classes": [
      "code-cell"
     ],
     "id": ""
    }
   },
   "outputs": [],
   "source": [
    "cidades.head(2) # Retorna um novo dataframe com as n primeiras amostras"
   ]
  },
  {
   "cell_type": "code",
   "execution_count": null,
   "id": "69708b8c",
   "metadata": {
    "attributes": {
     "classes": [
      "code-cell"
     ],
     "id": ""
    }
   },
   "outputs": [],
   "source": [
    "cidades.tail(2) # Retorna um novo dataframe com as n últimas amostras"
   ]
  },
  {
   "cell_type": "code",
   "execution_count": null,
   "id": "a72429b1",
   "metadata": {
    "attributes": {
     "classes": [
      "code-cell"
     ],
     "id": ""
    }
   },
   "outputs": [],
   "source": [
    "cidades.shape # Retorna uma tupla com o número de linhas e colunas"
   ]
  },
  {
   "cell_type": "code",
   "execution_count": null,
   "id": "5a928c2c",
   "metadata": {
    "attributes": {
     "classes": [
      "code-cell"
     ],
     "id": ""
    }
   },
   "outputs": [],
   "source": [
    "cidades.info() # Retorna vazio e imprime na tela as informações gerais do dataframe"
   ]
  },
  {
   "cell_type": "code",
   "execution_count": null,
   "id": "cc1bebed",
   "metadata": {
    "attributes": {
     "classes": [
      "code-cell"
     ],
     "id": ""
    }
   },
   "outputs": [],
   "source": [
    "cidades.columns # Retorna uma lista com o nome de todas as colunas"
   ]
  },
  {
   "cell_type": "code",
   "execution_count": null,
   "id": "2569b15c",
   "metadata": {
    "attributes": {
     "classes": [
      "code-cell"
     ],
     "id": ""
    }
   },
   "outputs": [],
   "source": [
    "cidades['Salário-Médio'].describe() # Retorna um objeto DataFrame com as medidas estatísticas para cada coluna"
   ]
  },
  {
   "cell_type": "markdown",
   "id": "60299124",
   "metadata": {},
   "source": [
    "## Tipos de Dados com Pandas"
   ]
  },
  {
   "cell_type": "code",
   "execution_count": null,
   "id": "02819f7d",
   "metadata": {
    "attributes": {
     "classes": [
      "code-cell"
     ],
     "id": ""
    }
   },
   "outputs": [],
   "source": [
    "cidades.dtypes\n",
    "cidades.info()"
   ]
  },
  {
   "cell_type": "code",
   "execution_count": null,
   "id": "71f57e26",
   "metadata": {
    "attributes": {
     "classes": [
      "code-cell"
     ],
     "id": ""
    }
   },
   "outputs": [],
   "source": [
    "cidades['Habitantes'] = cidades['Habitantes'].astype('float64')\n",
    "cidades.dtypes"
   ]
  },
  {
   "cell_type": "code",
   "execution_count": null,
   "id": "5e18230d",
   "metadata": {
    "attributes": {
     "classes": [
      "code-cell"
     ],
     "id": ""
    }
   },
   "outputs": [],
   "source": [
    "cidades['Data'] = ['3-8-2021', '3-9-2021', '3-10-2021', '3-11-2021', '3-12-2021']\n",
    "\n",
    "cidades['Data'] = pd.to_datetime(cidades['Data'], format='%d-%m-%Y') # Dia, Mês, Ano\n",
    "\n",
    "cidades"
   ]
  },
  {
   "cell_type": "code",
   "execution_count": null,
   "id": "09ad6ee1",
   "metadata": {
    "attributes": {
     "classes": [
      "code-cell"
     ],
     "id": ""
    }
   },
   "outputs": [],
   "source": [
    "cidades['Data'] = cidades['Data'].dt.strftime('%d-%m-%Y') # Dia, Mês, Ano\n",
    "cidades # Novo Formato"
   ]
  },
  {
   "cell_type": "markdown",
   "id": "42f4e954",
   "metadata": {},
   "source": [
    "## Renomeando Colunas"
   ]
  },
  {
   "cell_type": "code",
   "execution_count": null,
   "id": "644b227f",
   "metadata": {
    "attributes": {
     "classes": [
      "code-cell"
     ],
     "id": ""
    }
   },
   "outputs": [],
   "source": [
    "cidades.rename(columns={'Habitantes': 'N Habitantes', 'Data': 'Data - Censo'}, inplace=True)\n",
    "cidades"
   ]
  },
  {
   "cell_type": "markdown",
   "id": "04689bb1",
   "metadata": {},
   "source": [
    "## Selecionando Linhas e Colunas"
   ]
  },
  {
   "cell_type": "code",
   "execution_count": null,
   "id": "4ed202b1",
   "metadata": {
    "attributes": {
     "classes": [
      "code-cell"
     ],
     "id": ""
    }
   },
   "outputs": [],
   "source": [
    "cidadesHab = cidades[['N Habitantes', 'Salário-Médio']] # Seleciona as duas colunas com os nomes especificados\n",
    "cidadesHab"
   ]
  },
  {
   "cell_type": "code",
   "execution_count": null,
   "id": "308bc0ca",
   "metadata": {
    "attributes": {
     "classes": [
      "code-cell"
     ],
     "id": ""
    }
   },
   "outputs": [],
   "source": [
    "cidades.loc[[1, 2]] # Seleciona as duas linhas com os nomes especificados (note que o \"rótulo\" de cada linha está presente na forma de números inteiros)"
   ]
  },
  {
   "cell_type": "code",
   "execution_count": null,
   "id": "d3654a5b",
   "metadata": {
    "attributes": {
     "classes": [
      "code-cell"
     ],
     "id": ""
    }
   },
   "outputs": [],
   "source": [
    "cidades.iloc[1:3] # Seleciona as linhas do dataframe original, referentes ao índice determinado"
   ]
  },
  {
   "cell_type": "code",
   "execution_count": null,
   "id": "0f80454c",
   "metadata": {
    "attributes": {
     "classes": [
      "code-cell"
     ],
     "id": ""
    }
   },
   "outputs": [],
   "source": [
    "cidades.iloc[:, 0:2] # Seleciona todas as linhas e as duas primeiras colunas do dataframe original"
   ]
  },
  {
   "cell_type": "code",
   "execution_count": null,
   "id": "72aebc5c",
   "metadata": {
    "attributes": {
     "classes": [
      "code-cell"
     ],
     "id": ""
    }
   },
   "outputs": [],
   "source": [
    "cidades.iloc[1:3, :3] # Seleciona as duas primeiras linhas e as três primeiras colunas"
   ]
  },
  {
   "cell_type": "code",
   "execution_count": null,
   "id": "1423feb2",
   "metadata": {
    "attributes": {
     "classes": [
      "code-cell"
     ],
     "id": ""
    }
   },
   "outputs": [],
   "source": [
    "cidades.iloc[:, [1, 3, 0, 2]] # Seleciona todas as linhas e as colunas determinadas"
   ]
  },
  {
   "cell_type": "markdown",
   "id": "b6fec5a8",
   "metadata": {},
   "source": [
    "## Adicionando e Removendo Colunas"
   ]
  },
  {
   "cell_type": "code",
   "execution_count": null,
   "id": "71d8a0d3",
   "metadata": {
    "attributes": {
     "classes": [
      "code-cell"
     ],
     "id": ""
    }
   },
   "outputs": [],
   "source": [
    "cidades.insert(2, 'Sigla', ['PR', 'SP', 'SC', 'PR', 'SP']) # Adiciona novos dados no índice dois\n",
    "cidades.insert(2, 'Sigla-Repetida', cidades['Sigla']) # Adiciona uma coluna repetida \"Sigla\"\n",
    "cidades"
   ]
  },
  {
   "cell_type": "code",
   "execution_count": null,
   "id": "7f3b9486",
   "metadata": {
    "attributes": {
     "classes": [
      "code-cell"
     ],
     "id": ""
    }
   },
   "outputs": [],
   "source": [
    "cidades.pop('Sigla-Repetida')\n",
    "\n",
    "# ou\n",
    "\n",
    "cidades = cidades.drop(['Sigla-Repetida'], axis=1)\n",
    "cidades"
   ]
  },
  {
   "cell_type": "markdown",
   "id": "bb290808",
   "metadata": {},
   "source": [
    "## Operações Básicas - Consultas"
   ]
  },
  {
   "cell_type": "code",
   "execution_count": null,
   "id": "8f8b6f3d",
   "metadata": {
    "attributes": {
     "classes": [
      "code-cell"
     ],
     "id": ""
    }
   },
   "outputs": [],
   "source": [
    "cidades.query('`Salário-Médio` > 1400.0')"
   ]
  },
  {
   "cell_type": "code",
   "execution_count": null,
   "id": "a24c9e5c",
   "metadata": {
    "attributes": {
     "classes": [
      "code-cell"
     ],
     "id": ""
    }
   },
   "outputs": [],
   "source": [
    "cidades.query('Estado == \"São Paulo\"')"
   ]
  },
  {
   "cell_type": "code",
   "execution_count": null,
   "id": "be2cec5d",
   "metadata": {
    "attributes": {
     "classes": [
      "code-cell"
     ],
     "id": ""
    }
   },
   "outputs": [],
   "source": [
    "cidades.query('`N Habitantes` > 500000 and `N Habitantes` < 1300000')"
   ]
  },
  {
   "cell_type": "markdown",
   "id": "0e54148e",
   "metadata": {},
   "source": [
    "## Operações Básicas - Ordenação"
   ]
  },
  {
   "cell_type": "code",
   "execution_count": null,
   "id": "56267ea3",
   "metadata": {
    "attributes": {
     "classes": [
      "code-cell"
     ],
     "id": ""
    }
   },
   "outputs": [],
   "source": [
    "cidades.sort_values(by='Cidade', inplace=True)\n",
    "cidades"
   ]
  },
  {
   "cell_type": "code",
   "execution_count": null,
   "id": "88dbd8f3",
   "metadata": {
    "attributes": {
     "classes": [
      "code-cell"
     ],
     "id": ""
    }
   },
   "outputs": [],
   "source": [
    "cidades.sort_values(by='Salário-Médio', inplace=True)\n",
    "cidades"
   ]
  },
  {
   "cell_type": "markdown",
   "id": "7fc3b974",
   "metadata": {},
   "source": [
    "## Operações Básicas - Combinando DataFrames"
   ]
  },
  {
   "cell_type": "code",
   "execution_count": null,
   "id": "8dac458f",
   "metadata": {
    "attributes": {
     "classes": [
      "code-cell"
     ],
     "id": ""
    }
   },
   "outputs": [],
   "source": [
    "cidades_salarios = pd.DataFrame(\n",
    "    [\n",
    "        ['Paraná', 'Londrina', 1356.00],\n",
    "        ['São Paulo', 'São Carlos', 1508.00],\n",
    "        ['Santa Catarina', 'Florianópolis', 1798.00],\n",
    "        ['Paraná', 'Curitiba', 2293.00],\n",
    "        ['São Paulo', 'Campinas', 1710.00]\n",
    "    ], columns=['Estado', 'Cidade', 'Salário-Médio'])\n",
    "\n",
    "cidades_salarios"
   ]
  },
  {
   "cell_type": "code",
   "execution_count": null,
   "id": "c38747a1",
   "metadata": {
    "attributes": {
     "classes": [
      "code-cell"
     ],
     "id": ""
    }
   },
   "outputs": [],
   "source": [
    "cidades_pop = pd.DataFrame(\n",
    "    [\n",
    "        ['Londrina', 575377],\n",
    "        ['São Carlos', 254484],\n",
    "        ['Florianópolis', 508826],\n",
    "        ['Curitiba', 1963726],\n",
    "        ['Campinas', 1223237]\n",
    "    ], columns=['Cidade', 'Habitantes'])\n",
    "\n",
    "cidades_pop"
   ]
  },
  {
   "cell_type": "code",
   "execution_count": null,
   "id": "3752a87d",
   "metadata": {
    "attributes": {
     "classes": [
      "code-cell"
     ],
     "id": ""
    }
   },
   "outputs": [],
   "source": [
    "pd.merge(left=cidades_salarios, right=cidades_pop, on=\"Cidade\")"
   ]
  },
  {
   "cell_type": "code",
   "execution_count": null,
   "id": "4702bef1",
   "metadata": {
    "attributes": {
     "classes": [
      "code-cell"
     ],
     "id": ""
    }
   },
   "outputs": [],
   "source": [
    "pd.merge(left=cidades_salarios, right=cidades_pop, on=\"Cidade\", how=\"outer\")"
   ]
  },
  {
   "cell_type": "code",
   "execution_count": null,
   "id": "579e9f15",
   "metadata": {
    "attributes": {
     "classes": [
      "code-cell"
     ],
     "id": ""
    }
   },
   "outputs": [],
   "source": [
    "cidades_df1 = pd.DataFrame(\n",
    "    [\n",
    "        ['Londrina', 575377],\n",
    "        ['São Carlos', 254484],\n",
    "        ['Florianópolis', 508826],\n",
    "    ], columns=['Cidade', 'Habitantes'])\n",
    "\n",
    "cidades_df1"
   ]
  },
  {
   "cell_type": "code",
   "execution_count": null,
   "id": "77334624",
   "metadata": {
    "attributes": {
     "classes": [
      "code-cell"
     ],
     "id": ""
    }
   },
   "outputs": [],
   "source": [
    "cidades_df2 = pd.DataFrame(\n",
    "    [\n",
    "        ['Curitiba', 1963726],\n",
    "        ['Campinas', 1223237]\n",
    "    ], columns=['Cidade', 'Habitantes'])\n",
    "\n",
    "cidades_df2"
   ]
  },
  {
   "cell_type": "code",
   "execution_count": null,
   "id": "01acf60d",
   "metadata": {
    "attributes": {
     "classes": [
      "code-cell"
     ],
     "id": ""
    }
   },
   "outputs": [],
   "source": [
    "pd.concat([cidades_df1, cidades_df2], ignore_index=True)"
   ]
  },
  {
   "cell_type": "markdown",
   "id": "6d47904b",
   "metadata": {},
   "source": [
    "## Operações Básicas - Salvando DataFrames"
   ]
  },
  {
   "cell_type": "code",
   "execution_count": null,
   "id": "47bb9040",
   "metadata": {
    "attributes": {
     "classes": [
      "code-cell"
     ],
     "id": ""
    }
   },
   "outputs": [],
   "source": [
    "cidades.to_csv(\"my_df.csv\")\n",
    "cidades.to_html(\"my_df.html\")\n",
    "cidades.to_json(\"my_df.json\")"
   ]
  }
 ],
 "metadata": {},
 "nbformat": 4,
 "nbformat_minor": 5
}
