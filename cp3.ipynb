{
 "cells": [
  {
   "cell_type": "markdown",
   "id": "fb95c12d",
   "metadata": {},
   "source": [
    "---\n",
    "jupytext:\n",
    "  formats: md:myst\n",
    "  text_representation:\n",
    "    extension: .md\n",
    "    format_name: myst\n",
    "    format_version: 0.13\n",
    "    jupytext_version: 1.11.5\n",
    "kernelspec:\n",
    "  display_name: Python 3\n",
    "  language: python\n",
    "  name: python3\n",
    "---\n",
    "\n",
    "# Visualização para Exploração de Dados"
   ]
  },
  {
   "cell_type": "code",
   "execution_count": null,
   "id": "b9ae28db",
   "metadata": {},
   "outputs": [],
   "source": [
    ":class: tip\n",
    "Para execução dos códigos, é necessário instalar as seguintes bibliotecas: \n",
    "\n",
    " - *!pip install seaborn*\n",
    " - *!pip install matplotlib*\n",
    " - *!pip install wordcloud*\n",
    " - *!pip install plotly==5.13.1*"
   ]
  },
  {
   "cell_type": "code",
   "execution_count": null,
   "id": "8053bf29",
   "metadata": {
    "attributes": {
     "classes": [
      "code-cell"
     ],
     "id": ""
    }
   },
   "outputs": [],
   "source": [
    ":tags: [remove-output]\n",
    "import numpy as np\n",
    "import pandas as pd\n",
    "import seaborn as sns\n",
    "import matplotlib.pyplot as plt\n",
    "from wordcloud import WordCloud\n",
    "import plotly\n",
    "import plotly.graph_objects as go\n",
    "plotly.offline.init_notebook_mode(connected=True)"
   ]
  },
  {
   "cell_type": "markdown",
   "id": "0866acb9",
   "metadata": {},
   "source": [
    "## Gráficos de Barras ou Colunas"
   ]
  },
  {
   "cell_type": "code",
   "execution_count": null,
   "id": "a5997ab6",
   "metadata": {
    "attributes": {
     "classes": [
      "code-cell"
     ],
     "id": ""
    }
   },
   "outputs": [],
   "source": [
    ":tags: [remove-output]\n",
    "data = df_brasil.groupby(by=['STATE']).mean()['GDP_CAPITA']\n",
    "ax = data.plot.bar(figsize=(10,5))\n",
    "\n",
    "_ = ax.set(xlabel='Estados', ylabel='Produto interno Bruto (PIB) per capita')"
   ]
  },
  {
   "cell_type": "code",
   "execution_count": null,
   "id": "ac0d3003",
   "metadata": {
    "attributes": {
     "classes": [
      "code-cell"
     ],
     "id": ""
    }
   },
   "outputs": [],
   "source": [
    ":tags: [remove-output]\n",
    "data = df_brasil.groupby(by=['REGION']).agg({'CITY': 'count', 'POPULATION_2018': 'sum'})\n",
    "\n",
    "data['CITY'] = (data['CITY'] / data['CITY'].sum()) * 100\n",
    "                \n",
    "data['POPULATION_2018'] = (data['POPULATION_2018'] / data['POPULATION_2018'].sum()) * 100\n",
    "\n",
    "ax = data.plot.barh(figsize=(10,5))\n",
    "\n",
    "_ = ax.set(xlabel='Porcentagem com relação ao Brasil', ylabel='Região')\n",
    "_ = ax.legend(['Porcentagem de cidades por região no Brasil', 'Porcentagem de pessoas por região no Brasil'])"
   ]
  },
  {
   "cell_type": "markdown",
   "id": "550c14d7",
   "metadata": {},
   "source": [
    "## Gráfico de Setor"
   ]
  },
  {
   "cell_type": "code",
   "execution_count": null,
   "id": "c99eae44",
   "metadata": {
    "attributes": {
     "classes": [
      "code-cell"
     ],
     "id": ""
    }
   },
   "outputs": [],
   "source": [
    ":tags: [remove-output]\n",
    "# Especifica a sequência de cores a ser utilizada na visualização\n",
    "colors = ['lightskyblue', 'red', 'blue', 'green', 'gold']\n",
    "fig, axes = plt.subplots(nrows=1, ncols=2, figsize=(15, 15))\n",
    "\n",
    "_ = df_brasil.groupby(by=['REGION']).sum()['TAXES'].plot.pie(colors=colors, autopct='%1.1f%%', ax=axes[0])\n",
    "_ = df_brasil.groupby(by=['REGION']).sum()['GDP'].plot.pie(colors=colors, autopct='%1.1f%%', ax=axes[1])\n",
    "\n",
    "_ = axes[0].set(xlabel='Distribuição do volume de impostos pagos por região do Brasil em 2016', ylabel='')\n",
    "_ = axes[1].set(xlabel='Distribuição do PIB por região do Brasil em 2016', ylabel='')"
   ]
  },
  {
   "cell_type": "markdown",
   "id": "9a12c83c",
   "metadata": {},
   "source": [
    "## Gráficos de Dispersão"
   ]
  },
  {
   "cell_type": "code",
   "execution_count": null,
   "id": "8bc0433d",
   "metadata": {
    "attributes": {
     "classes": [
      "code-cell"
     ],
     "id": ""
    }
   },
   "outputs": [],
   "source": [
    ":tags: [remove-output]\n",
    "# O valor de despesas de alguns municípios não foi disponibilizado na base de dados\n",
    "data = df_brasil.query(\"MUN_EXPENDIT != 0\")\n",
    "\n",
    "f, ax = plt.subplots(figsize=(10, 6))\n",
    "plt.yscale('log')\n",
    "\n",
    "sct_plot = sns.scatterplot(x=data['IDHM'],\n",
    "                           y=data['MUN_EXPENDIT'],\n",
    "                           hue=data['REGION'])\n",
    "\n",
    "sct_plot.set_xlabel(xlabel = 'IDH do município', fontsize = 12)\n",
    "sct_plot.set_ylabel(ylabel = 'Gastos do município', fontsize = 12)"
   ]
  },
  {
   "cell_type": "code",
   "execution_count": null,
   "id": "631b6a93",
   "metadata": {
    "attributes": {
     "classes": [
      "code-cell"
     ],
     "id": ""
    }
   },
   "outputs": [],
   "source": [
    ":tags: [remove-output]\n",
    "f, ax = plt.subplots(figsize=(8, 8))\n",
    "sns.scatterplot(x=data.LONG,\n",
    "                y=data.LAT ,\n",
    "                hue=data['IDHM'],\n",
    "                size=data['MUN_EXPENDIT'])\n",
    "\n",
    "_ = plt.title(\"Distribuição de municípios brasileiros de acordo com o seu IDH, suas despesas e a região onde se encontram.\""
   ]
  },
  {
   "cell_type": "code",
   "execution_count": null,
   "id": "a84c40ce",
   "metadata": {
    "attributes": {
     "classes": [
      "code-cell"
     ],
     "id": ""
    }
   },
   "outputs": [],
   "source": [
    ":tags: [remove-output]\n",
    "df = df_brasil[['WHEELED_TRACTOR', 'PLANTED_AREA', 'AREA', 'REGION']]\n",
    "\n",
    "# Para filtrar municípios sem tratores registrados\n",
    "df = df[df['WHEELED_TRACTOR'] != 0]\n",
    "\n",
    "df['WHEELED_TRACTOR'] = np.log(df['WHEELED_TRACTOR'])\n",
    "df['PLANTED_AREA'] = np.log(df['PLANTED_AREA'])\n",
    "df['AREA'] = np.log(df['AREA'])\n",
    "\n",
    "_ = sns.pairplot(df, hue=\"REGION\")"
   ]
  },
  {
   "cell_type": "markdown",
   "id": "4b8ad6a1",
   "metadata": {},
   "source": [
    "## Gráficos de Linhas"
   ]
  },
  {
   "cell_type": "code",
   "execution_count": null,
   "id": "0596953f",
   "metadata": {
    "attributes": {
     "classes": [
      "code-cell"
     ],
     "id": ""
    }
   },
   "outputs": [],
   "source": [
    ":tags: [remove-output]\n",
    "data = df_brasil.groupby('STATE').sum()[['POPULATION_2010', 'POPULATION_2018']]\n",
    "\n",
    "plot = data.plot.line(figsize=(15,5))\n",
    "_ = plt.xticks(range(0,len(data.index)), labels=data.index, rotation=45)\n",
    "_ = plot.set(xlabel='Estados', ylabel='População')"
   ]
  },
  {
   "cell_type": "markdown",
   "id": "14925097",
   "metadata": {},
   "source": [
    "## Gráficos de Radar"
   ]
  },
  {
   "cell_type": "code",
   "execution_count": null,
   "id": "79d4ed37",
   "metadata": {
    "attributes": {
     "classes": [
      "code-cell"
     ],
     "id": ""
    }
   },
   "outputs": [],
   "source": [
    ":tags: [remove-output]\n",
    "data = df_brasil.groupby(by=['REGION']).agg({'CITY': 'count', \n",
    "                                       'POPULATION_2018': 'sum',\n",
    "                                       'AREA': 'sum',\n",
    "                                       'GDP': 'sum',\n",
    "                                       'COMP_TOT': 'sum',\n",
    "                                       'TAXES': 'sum'})\n",
    "\n",
    "# Colocando os valores individuais em proporção do valor total\n",
    "for col in data.columns:\n",
    "    data[col] = data[col] / sum(data[col])\n",
    "    \n",
    "fig = go.Figure(\n",
    "    data=[go.Scatterpolar(r=data.values[0], theta=data.columns, fill='toself', name=data.index[0]),\n",
    "          go.Scatterpolar(r=data.values[1], theta=data.columns, fill='toself', name=data.index[1]),\n",
    "          go.Scatterpolar(r=data.values[2], theta=data.columns, fill='toself', name=data.index[2]),\n",
    "          go.Scatterpolar(r=data.values[3], theta=data.columns, fill='toself', name=data.index[3]),\n",
    "          go.Scatterpolar(r=data.values[4], theta=data.columns, fill='toself', name=data.index[4])],\n",
    "    layout=go.Layout(\n",
    "        polar={'radialaxis': {'visible': True}},\n",
    "        showlegend=True\n",
    "    )\n",
    ")\n",
    "\n",
    "fig.show()"
   ]
  },
  {
   "cell_type": "markdown",
   "id": "3f82c8e0",
   "metadata": {},
   "source": [
    "## Gráficos de Coordenadas Paralelas"
   ]
  },
  {
   "cell_type": "code",
   "execution_count": null,
   "id": "6f048e9a",
   "metadata": {
    "attributes": {
     "classes": [
      "code-cell"
     ],
     "id": ""
    }
   },
   "outputs": [],
   "source": [
    ":tags: [remove-output]\n",
    "data = df_brasil.query(\"REGION == 'SUL' or \\\n",
    "                               REGION == 'NORDESTE'\")\n",
    "\n",
    "# Criando codificação para visualização das variáveis categóricas\n",
    "category_rural_urban = data.RURAL_URBAN.astype('category').cat\n",
    "category_region = data.REGION.astype('category').cat\n",
    "\n",
    "# Declarando o gráfico com Plotly\n",
    "fig = go.Figure(data=\n",
    "    go.Parcoords(\n",
    "        line = dict(color = category_region.codes),\n",
    "        dimensions = list([\n",
    "            dict(label = 'Área Total Média', values = data['AREA']),\n",
    "            dict(label = 'Populaçao em 2018', values = data['POPULATION_2018']),\n",
    "            dict(tickvals = [0, 1, 2, 3, 4],\n",
    "                 ticktext = category_rural_urban.categories,\n",
    "                 label = 'Tipologia Rural/Urbano', values = category_rural_urban.codes),\n",
    "            dict(label = 'PIB per capita', values = data['GDP_CAPITA']),\n",
    "            dict(label = \"Região\", tickvals = [0, 1], ticktext=category_region.categories, values = category_region.codes),\n",
    "        ])\n",
    "    )\n",
    ")\n",
    "\n",
    "fig.show()"
   ]
  },
  {
   "cell_type": "code",
   "execution_count": null,
   "id": "d2876dea",
   "metadata": {
    "attributes": {
     "classes": [
      "code-cell"
     ],
     "id": ""
    }
   },
   "outputs": [],
   "source": [
    ":tags: [remove-output]\n",
    "data = df_brasil.query(\"REGION == 'SUL' or \\\n",
    "                               REGION == 'NORDESTE'\")\n",
    "\n",
    "# Criando codificação para visualização das variáveis categóricas\n",
    "category_rural_urban = data.RURAL_URBAN.astype('category').cat\n",
    "category_state = data.REGION.astype('category').cat\n",
    "\n",
    "# Declarando o gráfico com Plotly\n",
    "fig = go.Figure(data=\n",
    "    go.Parcoords(\n",
    "        line = dict(color = category_state.codes,),\n",
    "                    #showscale = True),\n",
    "        dimensions = list([\n",
    "            dict(label = 'Área Total Média', values = data['AREA']),\n",
    "            dict(label = 'Populaçao em 2018', values = data['POPULATION_2018']),\n",
    "            dict(tickvals = [0, 1, 2, 3, 4],\n",
    "                 ticktext = category_rural_urban.categories,\n",
    "                 label = 'Tipologia Rural/Urbano', values = category_rural_urban.codes),\n",
    "            dict(label = 'PIB per capita', values = data['GDP_CAPITA']),\n",
    "            dict(label = \"Região\", tickvals = [0, 1], ticktext=category_state.categories, values = category_state.codes),\n",
    "        ])\n",
    "    )\n",
    ")\n",
    "\n",
    "fig.show()"
   ]
  },
  {
   "cell_type": "markdown",
   "id": "678f0f08",
   "metadata": {},
   "source": [
    "## Histogramas"
   ]
  },
  {
   "cell_type": "code",
   "execution_count": null,
   "id": "2d6b2ece",
   "metadata": {
    "attributes": {
     "classes": [
      "code-cell"
     ],
     "id": ""
    }
   },
   "outputs": [],
   "source": [
    ":tags: [remove-output]\n",
    "f, ax = plt.subplots(figsize=(14, 6))\n",
    "\n",
    "filtro = df_brasil['GDP_CAPITA'] > df_brasil['GDP_CAPITA'].quantile(0.95)\n",
    "\n",
    "ax = df_brasil[filtro]['STATE'].hist(histtype='bar', grid=False)\n",
    "_ = ax.set(xlabel='Estado', ylabel='Proporção de PIB per capita')"
   ]
  },
  {
   "cell_type": "markdown",
   "id": "3915cb40",
   "metadata": {},
   "source": [
    "## Gráfico de Caixa - BoxPlot"
   ]
  },
  {
   "cell_type": "code",
   "execution_count": null,
   "id": "cf1888c1",
   "metadata": {
    "attributes": {
     "classes": [
      "code-cell"
     ],
     "id": ""
    }
   },
   "outputs": [],
   "source": [
    ":tags: [remove-output]\n",
    "ax = df_brasil.boxplot(column='IDHM', by='STATE', figsize=(15,6))\n",
    "_ = ax.set(xlabel='', ylabel='')\n",
    "plt.title('IDH dos municípios de cada estado.')\n",
    "plt.suptitle('')"
   ]
  },
  {
   "cell_type": "markdown",
   "id": "cc93837c",
   "metadata": {},
   "source": [
    "## Gráficos de Violino"
   ]
  },
  {
   "cell_type": "code",
   "execution_count": null,
   "id": "f16f83b8",
   "metadata": {
    "attributes": {
     "classes": [
      "code-cell"
     ],
     "id": ""
    }
   },
   "outputs": [],
   "source": [
    ":tags: [remove-output]\n",
    "fig, axes = plt.subplots(nrows=1, ncols=2, figsize=(12, 5))\n",
    "\n",
    "violin_hdi = sns.violinplot(x = 'CAPITAL', y = 'IDHM', data = df_brasil, palette = \"Set3\", ax=axes[0])\n",
    "violin_hdi.set_xlabel(xlabel = 'É Capital?', fontsize = 12)\n",
    "violin_hdi.set_ylabel(ylabel = 'IDH', fontsize = 12)\n",
    "violin_hdi.set_title(label = 'Capital vs IDH', fontsize = 15)\n",
    "\n",
    "box_hdi = sns.boxplot(x = 'CAPITAL', y = 'IDHM', data = df_brasil, palette = \"Set3\", ax=axes[1])\n",
    "box_hdi.set_xlabel(xlabel = 'É Capital?', fontsize = 12)\n",
    "box_hdi.set_ylabel(ylabel = 'IDH', fontsize = 12)\n",
    "box_hdi.set_title(label = 'Capital vs IDH', fontsize = 15)"
   ]
  },
  {
   "cell_type": "markdown",
   "id": "d62ea788",
   "metadata": {},
   "source": [
    "## Nuvens de Palavras"
   ]
  },
  {
   "cell_type": "code",
   "execution_count": null,
   "id": "40e7fa6c",
   "metadata": {
    "attributes": {
     "classes": [
      "code-cell"
     ],
     "id": ""
    }
   },
   "outputs": [],
   "source": [
    ":tags: [remove-output]\n",
    "text = ' '.join(df_brasil['CITY'])\n",
    "\n",
    "# Remoção de palavras repetidas irrelevantes\n",
    "stop_words = ['De', 'Do', 'Da']\n",
    "\n",
    "# Mapeamento da frequência de cada palavra e produção da nuvem de palavras\n",
    "wordcloud = WordCloud(background_color=\"white\",\n",
    "                      max_words=len(df_brasil),\n",
    "                      max_font_size=70,\n",
    "                      stopwords=stop_words,\n",
    "                      height=300,\n",
    "                      width=600).generate(text)\n",
    "\n",
    "plt.figure(figsize=(20,12))\n",
    "plt.imshow(wordcloud, interpolation=\"bilinear\")\n",
    "plt.axis(\"off\")"
   ]
  },
  {
   "cell_type": "markdown",
   "id": "880c05ae",
   "metadata": {},
   "source": [
    "## Mapas de Calor"
   ]
  },
  {
   "cell_type": "code",
   "execution_count": null,
   "id": "ed6251cf",
   "metadata": {
    "attributes": {
     "classes": [
      "code-cell"
     ],
     "id": ""
    }
   },
   "outputs": [],
   "source": [
    ":tags: [remove-output]\n",
    "f, ax = plt.subplots(figsize=(8, 6))\n",
    "ax = sns.heatmap(df_brasil.corr())"
   ]
  }
 ],
 "metadata": {},
 "nbformat": 4,
 "nbformat_minor": 5
}
