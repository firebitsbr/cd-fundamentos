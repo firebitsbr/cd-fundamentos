{
 "cells": [
  {
   "cell_type": "markdown",
   "id": "d3280535",
   "metadata": {},
   "source": [
    "---\n",
    "jupytext:\n",
    "  formats: md:myst\n",
    "  text_representation:\n",
    "    extension: .md\n",
    "    format_name: myst\n",
    "    format_version: 0.13\n",
    "    jupytext_version: 1.11.5\n",
    "kernelspec:\n",
    "  display_name: Python 3\n",
    "  language: python\n",
    "  name: python3\n",
    "---\n",
    "\n",
    "# Engenharia de Características"
   ]
  },
  {
   "cell_type": "code",
   "execution_count": null,
   "id": "ceabbd77",
   "metadata": {},
   "outputs": [],
   "source": [
    ":class: tip\n",
    "Para execução dos códigos, é necessário instalar as seguintes bibliotecas: \n",
    "\n",
    " - *!pip install -U scikit-learn*"
   ]
  },
  {
   "cell_type": "markdown",
   "id": "9b074953",
   "metadata": {},
   "source": [
    "## Redução de Dimensionalidade - Agregação de Atributos"
   ]
  },
  {
   "cell_type": "code",
   "execution_count": null,
   "id": "1a78f818",
   "metadata": {
    "attributes": {
     "classes": [
      "code-cell"
     ],
     "id": ""
    }
   },
   "outputs": [],
   "source": [
    ":tags: [remove-output]\n",
    "import pandas as pd\n",
    "\n",
    "df = pd.read_csv('diabetes.csv')"
   ]
  },
  {
   "cell_type": "code",
   "execution_count": null,
   "id": "31b01901",
   "metadata": {
    "attributes": {
     "classes": [
      "code-cell"
     ],
     "id": ""
    }
   },
   "outputs": [],
   "source": [
    "# Importando a Técnica PCA e Método de normalização (Z-score)\n",
    "from sklearn.decomposition import PCA\n",
    "from sklearn.preprocessing import StandardScaler\n",
    "\n",
    "# Separando os dados em atributos preditivos (X) e atributo alvo (y)\n",
    "X = df.iloc[:, :-1].values\n",
    "y = df.iloc[:, -1].values\n",
    "\n",
    "# Pressuposto do PCA é que os dados seguem uma distribuição normal\n",
    "sc = StandardScaler()\n",
    "X = sc.fit_transform(X)\n",
    "\n",
    "# Atribuindo a técnica PCA e indicando o número de componentes principais desejados\n",
    "pca = PCA(n_components=2)\n",
    "\n",
    "# Ajustando e aplicando aos dados\n",
    "X_pca = pca.fit_transform(X)\n",
    "\n",
    "# A variação explicada informa quanta informação (variação) pode ser atribuída a cada um dos componentes principais.\n",
    "pca.explained_variance_ratio_"
   ]
  },
  {
   "cell_type": "markdown",
   "id": "8208b97b",
   "metadata": {},
   "source": [
    "## Redução de Dimensionalidade - Seleção de Atributos - Ordenação"
   ]
  },
  {
   "cell_type": "code",
   "execution_count": null,
   "id": "f6fffc9b",
   "metadata": {
    "attributes": {
     "classes": [
      "code-cell"
     ],
     "id": ""
    }
   },
   "outputs": [],
   "source": [
    "#Importando os métodos necessários\n",
    "from sklearn.preprocessing import MinMaxScaler\n",
    "from sklearn.feature_selection import SelectKBest\n",
    "from sklearn.feature_selection import f_classif\n",
    "from numpy import set_printoptions\n",
    "\n",
    "# Separando os dados em atributos preditivos (X) e atributo alvo (y)\n",
    "X = df.iloc[:, :-1].values\n",
    "y = df.iloc[:, -1].values\n",
    "\n",
    "# Escalando os dados agora com o método MinMax (apenas para fins de compreensão)\n",
    "sc = MinMaxScaler()\n",
    "X = sc.fit_transform(X)\n",
    "\n",
    "# Método de seleção: Análise de Variância (ANOVA) -> F_classif\n",
    "# k = números de atributos que se deseja selecionar no ranking\n",
    "fs = SelectKBest(score_func=f_classif, k=3)\n",
    "fs.fit(X, y)\n",
    "\n",
    "# Exibindo a classificação\n",
    "set_printoptions(precision=3)\n",
    "print(fs.scores_)\n",
    "\n",
    "# Aplicando a seleção\n",
    "X_selected = fs.transform(X)"
   ]
  },
  {
   "cell_type": "code",
   "execution_count": null,
   "id": "aa9bffed",
   "metadata": {
    "attributes": {
     "classes": [
      "code-cell"
     ],
     "id": ""
    }
   },
   "outputs": [],
   "source": [
    "#Importando os métodos necessários\n",
    "from sklearn.preprocessing import MinMaxScaler\n",
    "from sklearn.feature_selection import SelectKBest\n",
    "from sklearn.feature_selection import chi2\n",
    "from numpy import set_printoptions\n",
    "\n",
    "# Separando os dados em atributos preditivos (X) e atributo alvo (y)\n",
    "X = df.iloc[:, :-1].values\n",
    "y = df.iloc[:, -1].values\n",
    "\n",
    "# Escalando os dados agora com o método MinMax - Apenas para fins de compreensão\n",
    "sc = MinMaxScaler()\n",
    "X = sc.fit_transform(X)\n",
    "\n",
    "# Método de seleção: Qui-quadrado (Chi-Squared) -> chi2\n",
    "# k = números de atributos que se deseja selecionar no ranking\n",
    "fs = SelectKBest(score_func=chi2, k=3)\n",
    "fs.fit(X, y)\n",
    "\n",
    "# Exibindo a classificação\n",
    "set_printoptions(precision=3)\n",
    "print(fs.scores_)\n",
    "\n",
    "# Aplicando a seleção\n",
    "X_selected = fs.transform(X)"
   ]
  },
  {
   "cell_type": "markdown",
   "id": "cf71c80e",
   "metadata": {},
   "source": [
    "## Redução de Dimensionalidade - Seleção de Atributos - Complementaridade"
   ]
  },
  {
   "cell_type": "code",
   "execution_count": null,
   "id": "43d7c25b",
   "metadata": {
    "attributes": {
     "classes": [
      "code-cell"
     ],
     "id": ""
    }
   },
   "outputs": [],
   "source": [
    "#Importando os métodos necessários\n",
    "from sklearn.preprocessing import MinMaxScaler\n",
    "from sklearn.feature_selection import SelectKBest\n",
    "from sklearn.feature_selection import mutual_info_classif\n",
    "from numpy import set_printoptions\n",
    "\n",
    "# Separando os dados em atributos preditivos (X) e atributo alvo (y)\n",
    "X = df.iloc[:, :-1].values\n",
    "y = df.iloc[:, -1].values\n",
    "\n",
    "# Escalando os dados agora com o método MinMax - Apenas para fins de compreensão\n",
    "sc = MinMaxScaler()\n",
    "X = sc.fit_transform(X)\n",
    "\n",
    "# Método de seleção: Informação Mútua -> mutual_info_classif\n",
    "# k = números de atributos que se deseja selecionar no ranking\n",
    "fs = SelectKBest(score_func=mutual_info_classif, k=3)\n",
    "fs.fit(X, y)\n",
    "\n",
    "# Exibindo a classificação\n",
    "set_printoptions(precision=3)\n",
    "print(fs.scores_)\n",
    "\n",
    "# Aplicando a seleção\n",
    "X_selected = fs.transform(X)"
   ]
  },
  {
   "cell_type": "code",
   "execution_count": null,
   "id": "d86741e9",
   "metadata": {
    "attributes": {
     "classes": [
      "code-cell"
     ],
     "id": ""
    }
   },
   "outputs": [],
   "source": [
    "#Importando os métodos necessários\n",
    "from sklearn.preprocessing import MinMaxScaler\n",
    "from sklearn.feature_selection import RFE\n",
    "\n",
    "# Algoritmo de indução para verificar o desempenho dos subconjuntos de atributos\n",
    "from sklearn.ensemble import RandomForestClassifier\n",
    "\n",
    "# Separando os dados em atributos preditivos (X) e atributo alvo (y)\n",
    "X = df.iloc[:, :-1].values\n",
    "y = df.iloc[:, -1].values\n",
    "\n",
    "# Escalando os dados agora com o método MinMax - Apenas para fins de compreensão\n",
    "sc = MinMaxScaler()\n",
    "X = sc.fit_transform(X)\n",
    "\n",
    "# Instanciando o classificador para fazer a seleção de maneira recursiva nos subconjuntos\n",
    "rf = RandomForestClassifier()\n",
    "\n",
    "# Seleção de 4 atributos\n",
    "n_features = 4\n",
    "\n",
    "# Método de seleção: Eliminação Recursiva de Atributos (Recursive Feature Elimination) utilizando modelo preditivo\n",
    "rfe = RFE(rf, n_features_to_select=n_features) \n",
    "\n",
    "# Ajuste do modelo para os objetos e seleção dos atributos\n",
    "rfe = rfe.fit(X, y)\n",
    "\n",
    "# Transformação dos dados iniciais para a nova quantidade de dimensões \n",
    "X_features = rfe.transform(X)\n",
    "\n",
    "print(\"Num Atributos: %s\" % (rfe.n_features_))\n",
    "print(\"Atributos selecionados: %s\" % (rfe.support_))\n",
    "print(\"Ranking Atributos: %s\" % (rfe.ranking_))"
   ]
  },
  {
   "cell_type": "markdown",
   "id": "51306946",
   "metadata": {},
   "source": [
    "```{code-cell}\n",
    "#Importando os métodos necessários\n",
    "from sklearn.preprocessing import MinMaxScaler\n",
    "from sklearn.feature_selection import SelectFromModel\n",
    "\n",
    "# Algoritmo de indução para verificar o desempenho dos subconjuntos de atributos\n",
    "from sklearn.ensemble import RandomForestClassifier\n",
    "\n",
    "# Separando os dados em atributos preditivos (X) e atributo alvo (y)\n",
    "X = df.iloc[:, :-1].values\n",
    "y = df.iloc[:, -1].values\n",
    "\n",
    "# Escalando os dados agora com o método MinMax - Apenas para fins de compreensão\n",
    "sc = MinMaxScaler()\n",
    "X = sc.fit_transform(X)\n",
    "\n",
    "# Instanciando o classificador para fazer a seleção baseada na importância calculada de cada característica\n",
    "rf = RandomForestClassifier()\n",
    "\n",
    "# Valor limiar de importância para seleção dos atributos\n",
    "threshold_value=0.06\n",
    "\n",
    "# Método de seleção: Seleção dos K-melhores atributos com base na importância dos atributos para um modelo\n",
    "sfm = SelectFromModel(rf, threshold=threshold_value) \n",
    "\n",
    "# Ajuste do modelo para os objetos e seleção dos atributos\n",
    "sfm.fit(X, y)\n",
    "\n",
    "# Aplicando a seleção\n",
    "X_features = sfm.transform(X)\n",
    "```"
   ]
  }
 ],
 "metadata": {},
 "nbformat": 4,
 "nbformat_minor": 5
}
