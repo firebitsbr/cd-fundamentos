{
 "cells": [
  {
   "cell_type": "markdown",
   "id": "4cae3237",
   "metadata": {},
   "source": [
    "---\n",
    "jupytext:\n",
    "  formats: md:myst\n",
    "  text_representation:\n",
    "    extension: .md\n",
    "    format_name: myst\n",
    "    format_version: 0.13\n",
    "    jupytext_version: 1.11.5\n",
    "kernelspec:\n",
    "  display_name: Python 3\n",
    "  language: python\n",
    "  name: python3\n",
    "---\n",
    "\n",
    "# Modelagem de Dados"
   ]
  },
  {
   "cell_type": "code",
   "execution_count": null,
   "id": "943567b3",
   "metadata": {},
   "outputs": [],
   "source": [
    ":class: tip\n",
    "Para execução dos códigos, é necessário instalar as seguintes bibliotecas: \n",
    "\n",
    " - *!pip install -U scikit-learn*"
   ]
  },
  {
   "cell_type": "markdown",
   "id": "829a7a58",
   "metadata": {},
   "source": [
    "## Aplicação dos Algoritmos de Modelagem: Python"
   ]
  },
  {
   "cell_type": "code",
   "execution_count": null,
   "id": "b2a92cfb",
   "metadata": {
    "attributes": {
     "classes": [
      "code-cell"
     ],
     "id": ""
    }
   },
   "outputs": [],
   "source": [
    ":tags: [remove-output]\n",
    "# Pipeline de Classificação\n",
    "import pandas as pd\n",
    "\n",
    "# Fazendo a leitura dos dados\n",
    "df = pd.read_csv('diabetes.csv')\n",
    "\n",
    "# Utilizando hold-out como técnica de re-amostragem\n",
    "from sklearn.model_selection import train_test_split\n",
    "\n",
    "# Separando os dados em atributos preditivos (X) e atributo alvo (y)\n",
    "X = df.iloc[:, :-1].values\n",
    "y = df.iloc[:, -1].values\n",
    "\n",
    "# Aplicando a técnica de hold-out \n",
    "training_set, test_set, train_labels, test_labels = train_test_split(X,  \n",
    "                                                                     y,  \n",
    "                                                                     test_size=0.3,\n",
    "                                                                     random_state=12,\n",
    "                                                                     stratify=y)\n",
    "\n",
    "# Importando o classificador baseado em Árvore de Decisão\n",
    "from sklearn.tree import DecisionTreeClassifier\n",
    "\n",
    "# Inicializando o classificador\n",
    "dt = DecisionTreeClassifier(random_state=42)\n",
    "\n",
    "# Ajustando o modelo aos dados\n",
    "dt.fit(training_set, train_labels)\n",
    "\n",
    "# Coletando os valores previstos para o conjunto de teste\n",
    "preds_dt = dt.predict(test_set)\n",
    "\n",
    "# Importando a métrica de acurácia para avaliação das respostas\n",
    "from sklearn.metrics import accuracy_score\n",
    "\n",
    "# Calculando a acurácia com base nas respostas esperadas\n",
    "print(accuracy_score(preds_dt, test_labels))"
   ]
  },
  {
   "cell_type": "code",
   "execution_count": null,
   "id": "0aed3b1b",
   "metadata": {
    "attributes": {
     "classes": [
      "code-cell"
     ],
     "id": ""
    }
   },
   "outputs": [],
   "source": [
    ":tags: [remove-output]\n",
    "# Pipeline de Regressão\n",
    "from sklearn.datasets import fetch_california_housing\n",
    "\n",
    "# Carregando os dados\n",
    "califa_dataset = fetch_california_housing()\n",
    "\n",
    "# Separando atributos preditivos do atributo alvo\n",
    "data = pd.DataFrame(califa_dataset.data, columns=califa_dataset.feature_names)\n",
    "target = califa_dataset.target\n",
    "\n",
    "from sklearn.model_selection import train_test_split\n",
    "\n",
    "# Aplicando a técnica de hold-out \n",
    "train, test, train_labels, test_labels = train_test_split(data,\n",
    "                                                          target,\n",
    "                                                          test_size=0.2,\n",
    "                                                          random_state=12)\n",
    "                                                          \n",
    "# Importando o regressor baseado em Árvore de Decisão\n",
    "from sklearn.tree import DecisionTreeRegressor\n",
    "\n",
    "# Inicializando o modelo\n",
    "dt = DecisionTreeRegressor(random_state=42)\n",
    "\n",
    "# Ajustando o modelo aos dados\n",
    "dt.fit(train, train_labels)\n",
    "\n",
    "# Coletando os valores previstos para o conjunto de teste\n",
    "preds_dt = dt.predict(test)\n",
    "\n",
    "# Importando a métrica do erro médio quadrático para avaliação do desempenho\n",
    "from sklearn.metrics import mean_squared_error\n",
    "\n",
    "# Calculando o erro das predições com base no valor esperado\n",
    "print(mean_squared_error(test_labels, preds_dt))"
   ]
  }
 ],
 "metadata": {},
 "nbformat": 4,
 "nbformat_minor": 5
}
